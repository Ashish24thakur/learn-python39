{
 "metadata": {
  "language_info": {
   "codemirror_mode": {
    "name": "ipython",
    "version": 3
   },
   "file_extension": ".py",
   "mimetype": "text/x-python",
   "name": "python",
   "nbconvert_exporter": "python",
   "pygments_lexer": "ipython3",
   "version": "3.7.1"
  },
  "orig_nbformat": 4,
  "kernelspec": {
   "name": "python3",
   "display_name": "Python 3.7.1 64-bit ('base': conda)"
  },
  "interpreter": {
   "hash": "f5ebe8b5f89e594da2b164f45250d907e894c2b2bd96676d17ecb664326f1bc2"
  }
 },
 "nbformat": 4,
 "nbformat_minor": 2,
 "cells": [
  {
   "cell_type": "code",
   "execution_count": 1,
   "metadata": {},
   "outputs": [
    {
     "output_type": "stream",
     "name": "stdout",
     "text": [
      "one for Amit, one for me\n"
     ]
    }
   ],
   "source": [
    "'''\n",
    ". Function Two-fer or 2-fer is short for two for one. One for you and one for me.\n",
    "\"One for X, one for me.\"\n",
    "When X is a name or \"you\".\n",
    "If the given name is \"Alice\", the result should be \"One for Alice, one for me.\" If no name is given, the\n",
    "result should be \"One for you, one for me.\"\n",
    "def Two-fer():\n",
    "return “One for X, one for me.\"\n",
    "'''\n",
    "\n",
    "def two_fer(x):\n",
    "    # logic here \n",
    "    return f'one for {x}, one for me'\n",
    "\n",
    "print(two_fer('Amit'))\n",
    "\n",
    "\n"
   ]
  },
  {
   "cell_type": "code",
   "execution_count": 6,
   "metadata": {},
   "outputs": [
    {
     "output_type": "stream",
     "name": "stdout",
     "text": [
      "input list [2, 5, 0, 2, 4, 6, 3, 2]\nList with Unique elements []\n"
     ]
    }
   ],
   "source": [
    "\"\"\"\n",
    "Write a Python function that takes a list and returns a new list with unique elements of the \n",
    "first list.\n",
    "Sample List: [1,2,3,3,3,3,4,5]\n",
    "Unique List: [1, 2, 3, 4, 5]\n",
    "\"\"\"\n",
    "\n",
    "def unique(lst):  # [2, 5, 0, 2, 4, 6, 3, 2]\n",
    "    # logic here\n",
    "    new_list = []\n",
    "    for i in lst:  # i = 2\n",
    "        if i not in new_list:\n",
    "            new_list.append(i)\n",
    "    return new_list\n",
    "\n",
    "input_list =  [2, 5, 0, 2, 4, 6, 3, 2]\n",
    "unique_list = unique(input_list) \n",
    "print(f'input list {input_list}')\n",
    "print(f'List with Unique elements {unique_list}')  \n",
    "\n",
    "# # input \n",
    "# [2, 5, 0, 2, 4, 6, 3, 2]\n",
    "# # output \n",
    "# [2, 5, 0, 4, 6, 3]\n",
    "\n",
    "\n"
   ]
  },
  {
   "cell_type": "code",
   "execution_count": 11,
   "metadata": {},
   "outputs": [
    {
     "output_type": "stream",
     "name": "stdout",
     "text": [
      "input list [2, 5, 0, 5, 4, 6, 3, 2]\nList with items more than 1 frequency [2, 5]\n"
     ]
    }
   ],
   "source": [
    "# retrun duplicates elements only \n",
    "\n",
    "def duplicates_only_items(lst):  # [2, 5, 0, 2, 4, 6, 3, 2]\n",
    "    # logic here\n",
    "    new_list = []\n",
    "    for i in set(lst):\n",
    "        if lst.count(i) > 1:\n",
    "                new_list.append(i)    \n",
    "    return new_list\n",
    "\n",
    "input_list =  [2, 5, 0, 5, 4, 6, 3, 2]\n",
    "duplicates_list = duplicates_only_items(input_list) \n",
    "print(f'input list {input_list}')\n",
    "print(f'List with items more than 1 frequency {duplicates_list}')  \n",
    "\n",
    "# # input \n",
    "# [2, 5, 0, 2, 4, 6, 3, 2]\n",
    "# # output \n",
    "# [2, 5, 0, 4, 6, 3]\n",
    "\n",
    "\n"
   ]
  },
  {
   "cell_type": "code",
   "execution_count": 20,
   "metadata": {},
   "outputs": [
    {
     "output_type": "stream",
     "name": "stdout",
     "text": [
      "dlrow olleh <class 'str'>\n"
     ]
    }
   ],
   "source": [
    "\"\"\"\n",
    "Write a Python program to reverse a string.\n",
    "Sample String: \"1234abcd\"\n",
    "Expected Output: \"dcba4321\"\n",
    "\"\"\"\n",
    "\n",
    "st = 'hello world'\n",
    "out = st[::-1]  #  4, 3, 2,\n",
    "print(out, type(out))\n"
   ]
  },
  {
   "cell_type": "code",
   "execution_count": 22,
   "metadata": {},
   "outputs": [
    {
     "output_type": "stream",
     "name": "stdout",
     "text": [
      "item not present \n"
     ]
    }
   ],
   "source": [
    "\"\"\"\n",
    "Write a Python to check whether a number is in a given range\n",
    "\"\"\"\n",
    "\n",
    "number_range = range(1, 100)\n",
    "item = 200\n",
    "\n",
    "print('item is present ') if item in number_range else print('item not present ')\n",
    "\n"
   ]
  },
  {
   "cell_type": "code",
   "execution_count": 26,
   "metadata": {},
   "outputs": [
    {
     "output_type": "stream",
     "name": "stdout",
     "text": [
      "input list [1, 2, 3, 4, 5, 6, 7, 8, 9]\nOutput list with even numbers only [2, 4, 6, 8]\n"
     ]
    }
   ],
   "source": [
    "\"\"\"\n",
    "Write a Python program to print the even numbers from a given list.\n",
    "Sample List:[1, 2, 3, 4, 5, 6, 7, 8, 9]\n",
    "Expected Result: [2, 4, 6, 8]\n",
    "\n",
    "\"\"\"\n",
    "\n",
    "input_list = [1, 2, 3, 4, 5, 6, 7, 8, 9]\n",
    "# even_list = []\n",
    "# logic here \n",
    "# for i in input_list:\n",
    "#     if i % 2 == 0:\n",
    "#         even_list.append(i)\n",
    "# list comprehension \n",
    "# even_list = [i for i in input_list if i % 2 == 0]\n",
    "# def mera_fun(x):\n",
    "#     return x % 2 == 0   \n",
    "\n",
    "\n",
    "even_list = list(filter(lambda x : x % 2 == 0, input_list))\n",
    "print(f'input list {input_list}')\n",
    "print(f'Output list with even numbers only {even_list}')\n",
    "\n"
   ]
  },
  {
   "cell_type": "code",
   "execution_count": null,
   "metadata": {},
   "outputs": [],
   "source": []
  }
 ]
}